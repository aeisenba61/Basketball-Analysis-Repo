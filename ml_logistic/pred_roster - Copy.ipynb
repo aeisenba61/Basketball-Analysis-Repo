{
  "cells": [
    {
      "cell_type": "code",
      "source": [
        "%matplotlib inline\n",
        "import matplotlib.pyplot as plt\n",
        "import pandas as pd\n",
        "import os"
      ],
      "outputs": [],
      "execution_count": 1,
      "metadata": {
        "collapsed": false,
        "outputHidden": false,
        "inputHidden": false
      }
    },
    {
      "cell_type": "code",
      "source": [
        "os.chdir(\"C:/Users/Cynthia/Desktop/Bootcamp_Github/Basketball-Analysis-Repo/ml_logistic\")"
      ],
      "outputs": [],
      "execution_count": 2,
      "metadata": {
        "collapsed": false,
        "outputHidden": false,
        "inputHidden": false
      }
    },
    {
      "cell_type": "code",
      "source": [
        "data = pd.read_csv(\"../data/clean/draft_nba.csv\")\n",
        "data.columns.get_values().tolist()"
      ],
      "outputs": [
        {
          "output_type": "execute_result",
          "execution_count": 3,
          "data": {
            "text/plain": [
              "['draft_Player',\n",
              " 'draft_All_NBA',\n",
              " 'draft_All.Star',\n",
              " 'draft_Draft_Yr',\n",
              " 'draft_Pk',\n",
              " 'draft_Team',\n",
              " 'draft_College',\n",
              " 'draft_Yrs',\n",
              " 'draft_Games',\n",
              " 'draft_Minutes.Played',\n",
              " 'draft_PTS',\n",
              " 'draft_TRB',\n",
              " 'draft_AST',\n",
              " 'draft_FG_Percentage',\n",
              " 'draft_TP_Percentage',\n",
              " 'draft_FT_Percentage',\n",
              " 'draft_Minutes.per.Game',\n",
              " 'draft_Points.per.Game',\n",
              " 'draft_TRB.per.game',\n",
              " 'draft_Assits.per.Game',\n",
              " 'draft_Win.Share',\n",
              " 'draft_WS_per_game',\n",
              " 'draft_BPM',\n",
              " 'draft_VORP',\n",
              " 'draft_Executive',\n",
              " 'draft_Tenure',\n",
              " 'draft_Exec_ID',\n",
              " 'draft_Exec_draft_exp',\n",
              " 'draft_attend_college',\n",
              " 'draft_first_year',\n",
              " 'draft_second_year',\n",
              " 'draft_third_year',\n",
              " 'draft_fourth_year',\n",
              " 'draft_fifth_year',\n",
              " 'nba_Year_x',\n",
              " 'nba_Player',\n",
              " 'nba_Production',\n",
              " 'nba_TrueSalary',\n",
              " 'nba_Height',\n",
              " 'nba_Weight',\n",
              " 'Roster',\n",
              " 'nba_Year_y',\n",
              " 'nba_Pos',\n",
              " 'nba_Age',\n",
              " 'nba_Tm',\n",
              " 'nba_G',\n",
              " 'nba_GS',\n",
              " 'nba_MP',\n",
              " 'nba_PER',\n",
              " 'nba_TS%',\n",
              " 'nba_3PAr',\n",
              " 'nba_FTr',\n",
              " 'nba_ORB%',\n",
              " 'nba_DRB%',\n",
              " 'nba_TRB%',\n",
              " 'nba_AST%',\n",
              " 'nba_STL%',\n",
              " 'nba_BLK%',\n",
              " 'nba_TOV%',\n",
              " 'nba_USG%',\n",
              " 'nba_blanl',\n",
              " 'nba_OWS',\n",
              " 'nba_DWS',\n",
              " 'nba_WS',\n",
              " 'nba_WS/48',\n",
              " 'nba_blank2',\n",
              " 'nba_OBPM',\n",
              " 'nba_DBPM',\n",
              " 'nba_BPM',\n",
              " 'nba_VORP',\n",
              " 'nba_FG',\n",
              " 'nba_FGA',\n",
              " 'nba_FG%',\n",
              " 'nba_3P',\n",
              " 'nba_3PA',\n",
              " 'nba_3P%',\n",
              " 'nba_2P',\n",
              " 'nba_2PA',\n",
              " 'nba_2P%',\n",
              " 'nba_eFG%',\n",
              " 'nba_FT',\n",
              " 'nba_FTA',\n",
              " 'nba_FT%',\n",
              " 'nba_ORB',\n",
              " 'nba_DRB',\n",
              " 'nba_TRB',\n",
              " 'nba_AST',\n",
              " 'nba_STL',\n",
              " 'nba_BLK',\n",
              " 'nba_TOV',\n",
              " 'nba_PF',\n",
              " 'nba_PTS',\n",
              " 'Traded']"
            ]
          },
          "metadata": {}
        }
      ],
      "execution_count": 3,
      "metadata": {
        "collapsed": false,
        "outputHidden": false,
        "inputHidden": false
      }
    },
    {
      "cell_type": "code",
      "source": [
        "pred1 = [\"draft_All_NBA\",\n",
        "         \"draft_All.Star\",\n",
        "         \"draft_Pk\",\n",
        "         \"draft_Games\",\n",
        "         \"draft_Minutes.Played\",\n",
        "         \"draft_Minutes.per.Game\",\n",
        "         \"draft_Points.per.Game\",\n",
        "         \"draft_Win.Share\",\n",
        "         \"draft_WS_per_game\",\n",
        "         \"draft_attend_college\"]"
      ],
      "outputs": [],
      "execution_count": 4,
      "metadata": {
        "collapsed": false,
        "outputHidden": false,
        "inputHidden": false
      }
    },
    {
      "cell_type": "code",
      "source": [
        "X = data[pred1]\n",
        "y = data[\"Roster\"]\n",
        "X.head()"
      ],
      "outputs": [
        {
          "output_type": "execute_result",
          "execution_count": 5,
          "data": {
            "text/plain": [
              "   draft_All_NBA  draft_All.Star  draft_Pk  draft_Games  draft_Minutes.Played  \\\n",
              "0              0               0        20          334                  8548   \n",
              "1              0               0        48            0                     0   \n",
              "2              0               0         2          547                 10804   \n",
              "3              0               0        19          680                 14621   \n",
              "4              0               0        28           27                   266   \n",
              "\n",
              "   draft_Minutes.per.Game  draft_Points.per.Game  draft_Win.Share  \\\n",
              "0                    25.6                    9.3             14.2   \n",
              "1                     0.0                    0.0              0.0   \n",
              "2                    19.8                    8.4             21.3   \n",
              "3                    21.5                    7.2             27.7   \n",
              "4                     9.9                    2.9              0.2   \n",
              "\n",
              "   draft_WS_per_game  draft_attend_college  \n",
              "0              0.080                     1  \n",
              "1              0.000                     1  \n",
              "2              0.095                     1  \n",
              "3              0.091                     1  \n",
              "4              0.027                     1  "
            ],
            "text/html": [
              "<div>\n",
              "<style>\n",
              "    .dataframe thead tr:only-child th {\n",
              "        text-align: right;\n",
              "    }\n",
              "\n",
              "    .dataframe thead th {\n",
              "        text-align: left;\n",
              "    }\n",
              "\n",
              "    .dataframe tbody tr th {\n",
              "        vertical-align: top;\n",
              "    }\n",
              "</style>\n",
              "<table border=\"1\" class=\"dataframe\">\n",
              "  <thead>\n",
              "    <tr style=\"text-align: right;\">\n",
              "      <th></th>\n",
              "      <th>draft_All_NBA</th>\n",
              "      <th>draft_All.Star</th>\n",
              "      <th>draft_Pk</th>\n",
              "      <th>draft_Games</th>\n",
              "      <th>draft_Minutes.Played</th>\n",
              "      <th>draft_Minutes.per.Game</th>\n",
              "      <th>draft_Points.per.Game</th>\n",
              "      <th>draft_Win.Share</th>\n",
              "      <th>draft_WS_per_game</th>\n",
              "      <th>draft_attend_college</th>\n",
              "    </tr>\n",
              "  </thead>\n",
              "  <tbody>\n",
              "    <tr>\n",
              "      <th>0</th>\n",
              "      <td>0</td>\n",
              "      <td>0</td>\n",
              "      <td>20</td>\n",
              "      <td>334</td>\n",
              "      <td>8548</td>\n",
              "      <td>25.6</td>\n",
              "      <td>9.3</td>\n",
              "      <td>14.2</td>\n",
              "      <td>0.080</td>\n",
              "      <td>1</td>\n",
              "    </tr>\n",
              "    <tr>\n",
              "      <th>1</th>\n",
              "      <td>0</td>\n",
              "      <td>0</td>\n",
              "      <td>48</td>\n",
              "      <td>0</td>\n",
              "      <td>0</td>\n",
              "      <td>0.0</td>\n",
              "      <td>0.0</td>\n",
              "      <td>0.0</td>\n",
              "      <td>0.000</td>\n",
              "      <td>1</td>\n",
              "    </tr>\n",
              "    <tr>\n",
              "      <th>2</th>\n",
              "      <td>0</td>\n",
              "      <td>0</td>\n",
              "      <td>2</td>\n",
              "      <td>547</td>\n",
              "      <td>10804</td>\n",
              "      <td>19.8</td>\n",
              "      <td>8.4</td>\n",
              "      <td>21.3</td>\n",
              "      <td>0.095</td>\n",
              "      <td>1</td>\n",
              "    </tr>\n",
              "    <tr>\n",
              "      <th>3</th>\n",
              "      <td>0</td>\n",
              "      <td>0</td>\n",
              "      <td>19</td>\n",
              "      <td>680</td>\n",
              "      <td>14621</td>\n",
              "      <td>21.5</td>\n",
              "      <td>7.2</td>\n",
              "      <td>27.7</td>\n",
              "      <td>0.091</td>\n",
              "      <td>1</td>\n",
              "    </tr>\n",
              "    <tr>\n",
              "      <th>4</th>\n",
              "      <td>0</td>\n",
              "      <td>0</td>\n",
              "      <td>28</td>\n",
              "      <td>27</td>\n",
              "      <td>266</td>\n",
              "      <td>9.9</td>\n",
              "      <td>2.9</td>\n",
              "      <td>0.2</td>\n",
              "      <td>0.027</td>\n",
              "      <td>1</td>\n",
              "    </tr>\n",
              "  </tbody>\n",
              "</table>\n",
              "</div>"
            ]
          },
          "metadata": {}
        }
      ],
      "execution_count": 5,
      "metadata": {
        "collapsed": false,
        "outputHidden": false,
        "inputHidden": false
      }
    },
    {
      "cell_type": "code",
      "source": [
        "from sklearn.model_selection import StratifiedKFold\n",
        "\nskf = StratifiedKFold(n_splits = 10, random_state = 0)"
      ],
      "outputs": [],
      "execution_count": 6,
      "metadata": {
        "collapsed": false,
        "outputHidden": false,
        "inputHidden": false
      }
    },
    {
      "cell_type": "code",
      "source": [
        "from sklearn.linear_model import LogisticRegression\n",
        "\n",
        "models, scores, coefs = [],[],[]\n",
        "for train, test in skf.split(X, y):\n",
        "    clf = LogisticRegression(penalty = \"l1\")\n",
        "    clf.fit(X.loc[train], y.loc[train])\n",
        "    score = clf.score(X.loc[test], y.loc[test])\n",
        "    models.append(clf)\n",
        "    scores.append(score)\n",
        "    coefs.append(clf.coef_[0])"
      ],
      "outputs": [],
      "execution_count": 7,
      "metadata": {
        "collapsed": false,
        "outputHidden": false,
        "inputHidden": false
      }
    },
    {
      "cell_type": "code",
      "source": [
        "pd.DataFrame(coefs, columns = X.columns).mean()"
      ],
      "outputs": [
        {
          "output_type": "execute_result",
          "execution_count": 8,
          "data": {
            "text/plain": [
              "draft_All_NBA             0.053794\n",
              "draft_All.Star            0.553932\n",
              "draft_Pk                 -0.048955\n",
              "draft_Games               0.011808\n",
              "draft_Minutes.Played     -0.000283\n",
              "draft_Minutes.per.Game    0.072397\n",
              "draft_Points.per.Game     0.081352\n",
              "draft_Win.Share          -0.056430\n",
              "draft_WS_per_game        -1.946410\n",
              "draft_attend_college      2.101480\n",
              "dtype: float64"
            ]
          },
          "metadata": {}
        }
      ],
      "execution_count": 8,
      "metadata": {
        "collapsed": false,
        "outputHidden": false,
        "inputHidden": false
      }
    },
    {
      "cell_type": "code",
      "source": [
        "scores"
      ],
      "outputs": [
        {
          "output_type": "execute_result",
          "execution_count": 9,
          "data": {
            "text/plain": [
              "[0.8777777777777778,\n",
              " 0.8888888888888888,\n",
              " 0.8777777777777778,\n",
              " 0.9,\n",
              " 0.898876404494382,\n",
              " 0.8522727272727273,\n",
              " 0.875,\n",
              " 0.8181818181818182,\n",
              " 0.9090909090909091,\n",
              " 0.9090909090909091]"
            ]
          },
          "metadata": {}
        }
      ],
      "execution_count": 9,
      "metadata": {
        "collapsed": false,
        "outputHidden": false,
        "inputHidden": false
      }
    }
  ],
  "metadata": {
    "kernel_info": {
      "name": "python3"
    },
    "kernelspec": {
      "name": "python3",
      "language": "python",
      "display_name": "Python 3"
    },
    "language_info": {
      "name": "python",
      "version": "3.6.1",
      "mimetype": "text/x-python",
      "codemirror_mode": {
        "name": "ipython",
        "version": 3
      },
      "pygments_lexer": "ipython3",
      "nbconvert_exporter": "python",
      "file_extension": ".py"
    },
    "nteract": {
      "version": "0.8.4"
    }
  },
  "nbformat": 4,
  "nbformat_minor": 4
}