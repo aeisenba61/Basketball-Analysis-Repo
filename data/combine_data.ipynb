{
  "cells": [
    {
      "cell_type": "code",
      "source": [
        "import pandas as pd\n",
        "import numpy as np\n",
        "import os"
      ],
      "outputs": [],
      "execution_count": 74,
      "metadata": {
        "collapsed": false,
        "outputHidden": false,
        "inputHidden": false
      }
    },
    {
      "cell_type": "code",
      "source": [
        "os.chdir(\"C:/Users/Cynthia/Desktop/Bootcamp_Github/Basketball-Analysis-Repo/data\")"
      ],
      "outputs": [],
      "execution_count": 3,
      "metadata": {
        "collapsed": false,
        "outputHidden": false,
        "inputHidden": false
      }
    },
    {
      "cell_type": "code",
      "source": [
        "# Draft data\n",
        "\n",
        "draft = pd.read_csv(\"orig/1976_to_2015_Draftees.csv\")\n",
        "draft.head(3)"
      ],
      "outputs": [
        {
          "output_type": "execute_result",
          "execution_count": 6,
          "data": {
            "text/plain": [
              "      draft_Player  draft_All_NBA  draft_All.Star  draft_Draft_Yr  draft_Pk  \\\n",
              "0    Robert Parish              2               9            1976         8   \n",
              "1     Sonny Parker              0               0            1976        17   \n",
              "2  Marshall Rogers              0               0            1976        34   \n",
              "\n",
              "  draft_Team                     draft_College  draft_Yrs  draft_Games  \\\n",
              "0        GSW    Centenary College of Louisiana         21         1611   \n",
              "1        GSW              Texas A&M University          6          452   \n",
              "2        GSW  University of Texas-Pan American          1           26   \n",
              "\n",
              "   draft_Minutes.Played        ...         draft_Executive  \\\n",
              "0                 45704        ...               Al Attles   \n",
              "1                 10916        ...               Al Attles   \n",
              "2                   176        ...               Al Attles   \n",
              "\n",
              "                   draft_Tenure  draft_Exec_ID  draft_Exec_draft_exp  \\\n",
              "0  3641 days 00:00:00.000000000              1                     1   \n",
              "1  3641 days 00:00:00.000000000              1                     1   \n",
              "2  3641 days 00:00:00.000000000              1                     1   \n",
              "\n",
              "   draft_attend_college  draft_first_year  draft_second_year  \\\n",
              "0                     1                 0                  0   \n",
              "1                     1                 0                  0   \n",
              "2                     1                 0                  0   \n",
              "\n",
              "   draft_third_year  draft_fourth_year  draft_fifth_year  \n",
              "0                 0                  0                 0  \n",
              "1                 0                  0                 0  \n",
              "2                 0                  0                 0  \n",
              "\n[3 rows x 34 columns]"
            ],
            "text/html": [
              "<div>\n",
              "<style>\n",
              "    .dataframe thead tr:only-child th {\n",
              "        text-align: right;\n",
              "    }\n",
              "\n",
              "    .dataframe thead th {\n",
              "        text-align: left;\n",
              "    }\n",
              "\n",
              "    .dataframe tbody tr th {\n",
              "        vertical-align: top;\n",
              "    }\n",
              "</style>\n",
              "<table border=\"1\" class=\"dataframe\">\n",
              "  <thead>\n",
              "    <tr style=\"text-align: right;\">\n",
              "      <th></th>\n",
              "      <th>draft_Player</th>\n",
              "      <th>draft_All_NBA</th>\n",
              "      <th>draft_All.Star</th>\n",
              "      <th>draft_Draft_Yr</th>\n",
              "      <th>draft_Pk</th>\n",
              "      <th>draft_Team</th>\n",
              "      <th>draft_College</th>\n",
              "      <th>draft_Yrs</th>\n",
              "      <th>draft_Games</th>\n",
              "      <th>draft_Minutes.Played</th>\n",
              "      <th>...</th>\n",
              "      <th>draft_Executive</th>\n",
              "      <th>draft_Tenure</th>\n",
              "      <th>draft_Exec_ID</th>\n",
              "      <th>draft_Exec_draft_exp</th>\n",
              "      <th>draft_attend_college</th>\n",
              "      <th>draft_first_year</th>\n",
              "      <th>draft_second_year</th>\n",
              "      <th>draft_third_year</th>\n",
              "      <th>draft_fourth_year</th>\n",
              "      <th>draft_fifth_year</th>\n",
              "    </tr>\n",
              "  </thead>\n",
              "  <tbody>\n",
              "    <tr>\n",
              "      <th>0</th>\n",
              "      <td>Robert Parish</td>\n",
              "      <td>2</td>\n",
              "      <td>9</td>\n",
              "      <td>1976</td>\n",
              "      <td>8</td>\n",
              "      <td>GSW</td>\n",
              "      <td>Centenary College of Louisiana</td>\n",
              "      <td>21</td>\n",
              "      <td>1611</td>\n",
              "      <td>45704</td>\n",
              "      <td>...</td>\n",
              "      <td>Al Attles</td>\n",
              "      <td>3641 days 00:00:00.000000000</td>\n",
              "      <td>1</td>\n",
              "      <td>1</td>\n",
              "      <td>1</td>\n",
              "      <td>0</td>\n",
              "      <td>0</td>\n",
              "      <td>0</td>\n",
              "      <td>0</td>\n",
              "      <td>0</td>\n",
              "    </tr>\n",
              "    <tr>\n",
              "      <th>1</th>\n",
              "      <td>Sonny Parker</td>\n",
              "      <td>0</td>\n",
              "      <td>0</td>\n",
              "      <td>1976</td>\n",
              "      <td>17</td>\n",
              "      <td>GSW</td>\n",
              "      <td>Texas A&amp;M University</td>\n",
              "      <td>6</td>\n",
              "      <td>452</td>\n",
              "      <td>10916</td>\n",
              "      <td>...</td>\n",
              "      <td>Al Attles</td>\n",
              "      <td>3641 days 00:00:00.000000000</td>\n",
              "      <td>1</td>\n",
              "      <td>1</td>\n",
              "      <td>1</td>\n",
              "      <td>0</td>\n",
              "      <td>0</td>\n",
              "      <td>0</td>\n",
              "      <td>0</td>\n",
              "      <td>0</td>\n",
              "    </tr>\n",
              "    <tr>\n",
              "      <th>2</th>\n",
              "      <td>Marshall Rogers</td>\n",
              "      <td>0</td>\n",
              "      <td>0</td>\n",
              "      <td>1976</td>\n",
              "      <td>34</td>\n",
              "      <td>GSW</td>\n",
              "      <td>University of Texas-Pan American</td>\n",
              "      <td>1</td>\n",
              "      <td>26</td>\n",
              "      <td>176</td>\n",
              "      <td>...</td>\n",
              "      <td>Al Attles</td>\n",
              "      <td>3641 days 00:00:00.000000000</td>\n",
              "      <td>1</td>\n",
              "      <td>1</td>\n",
              "      <td>1</td>\n",
              "      <td>0</td>\n",
              "      <td>0</td>\n",
              "      <td>0</td>\n",
              "      <td>0</td>\n",
              "      <td>0</td>\n",
              "    </tr>\n",
              "  </tbody>\n",
              "</table>\n",
              "<p>3 rows × 34 columns</p>\n",
              "</div>"
            ]
          },
          "metadata": {}
        }
      ],
      "execution_count": 6,
      "metadata": {
        "collapsed": false,
        "outputHidden": false,
        "inputHidden": false
      }
    },
    {
      "cell_type": "code",
      "source": [
        "# NBA season data\n",
        "\n",
        "nba = pd.read_csv(\"orig/NBA Season Data.csv\")\n",
        "\n",
        "# Set Roster = 1 if they played the season\n",
        "nba[\"Roster\"] = 1\n",
        "nba.head(3)"
      ],
      "outputs": [
        {
          "output_type": "execute_result",
          "execution_count": 48,
          "data": {
            "text/plain": [
              "   nba_Year nba_Tm      nba_Player  nba_Age  nba_G  nba_MP  nba_PER  nba_TS%  \\\n",
              "0      1978    NOJ  Truck Robinson       26     82    3638     15.7    0.481   \n",
              "1      1978    BUF     Randy Smith       29     82    3314     19.1    0.521   \n",
              "2      1978    WSB     Elvin Hayes       32     81    3246     17.1    0.489   \n",
              "\n",
              "   nba_3PAr  nba_FTr   ...    nba_Adjusted WORP  nba_Estimated Position  \\\n",
              "0       NaN    0.340   ...                  1.1                     3.6   \n",
              "1       NaN    0.326   ...                  7.4                     1.0   \n",
              "2       NaN    0.365   ...                  6.5                     4.2   \n",
              "\n",
              "   nba_BBRef Pos  nba_Age on Feb 1  nba_Yrs Experience  nba_Height  \\\n",
              "0            4.0             26.33                 3.0        79.0   \n",
              "1            2.0             29.14                 6.0        75.0   \n",
              "2            4.0             32.21                 9.0        81.0   \n",
              "\n",
              "   nba_Weight  nba_Rounded Position  nba_Rounded Age  Roster  \n",
              "0       225.0                   4.0             26.0       1  \n",
              "1       180.0                   1.0             29.0       1  \n",
              "2       235.0                   4.0             32.0       1  \n",
              "\n[3 rows x 108 columns]"
            ],
            "text/html": [
              "<div>\n",
              "<style>\n",
              "    .dataframe thead tr:only-child th {\n",
              "        text-align: right;\n",
              "    }\n",
              "\n",
              "    .dataframe thead th {\n",
              "        text-align: left;\n",
              "    }\n",
              "\n",
              "    .dataframe tbody tr th {\n",
              "        vertical-align: top;\n",
              "    }\n",
              "</style>\n",
              "<table border=\"1\" class=\"dataframe\">\n",
              "  <thead>\n",
              "    <tr style=\"text-align: right;\">\n",
              "      <th></th>\n",
              "      <th>nba_Year</th>\n",
              "      <th>nba_Tm</th>\n",
              "      <th>nba_Player</th>\n",
              "      <th>nba_Age</th>\n",
              "      <th>nba_G</th>\n",
              "      <th>nba_MP</th>\n",
              "      <th>nba_PER</th>\n",
              "      <th>nba_TS%</th>\n",
              "      <th>nba_3PAr</th>\n",
              "      <th>nba_FTr</th>\n",
              "      <th>...</th>\n",
              "      <th>nba_Adjusted WORP</th>\n",
              "      <th>nba_Estimated Position</th>\n",
              "      <th>nba_BBRef Pos</th>\n",
              "      <th>nba_Age on Feb 1</th>\n",
              "      <th>nba_Yrs Experience</th>\n",
              "      <th>nba_Height</th>\n",
              "      <th>nba_Weight</th>\n",
              "      <th>nba_Rounded Position</th>\n",
              "      <th>nba_Rounded Age</th>\n",
              "      <th>Roster</th>\n",
              "    </tr>\n",
              "  </thead>\n",
              "  <tbody>\n",
              "    <tr>\n",
              "      <th>0</th>\n",
              "      <td>1978</td>\n",
              "      <td>NOJ</td>\n",
              "      <td>Truck Robinson</td>\n",
              "      <td>26</td>\n",
              "      <td>82</td>\n",
              "      <td>3638</td>\n",
              "      <td>15.7</td>\n",
              "      <td>0.481</td>\n",
              "      <td>NaN</td>\n",
              "      <td>0.340</td>\n",
              "      <td>...</td>\n",
              "      <td>1.1</td>\n",
              "      <td>3.6</td>\n",
              "      <td>4.0</td>\n",
              "      <td>26.33</td>\n",
              "      <td>3.0</td>\n",
              "      <td>79.0</td>\n",
              "      <td>225.0</td>\n",
              "      <td>4.0</td>\n",
              "      <td>26.0</td>\n",
              "      <td>1</td>\n",
              "    </tr>\n",
              "    <tr>\n",
              "      <th>1</th>\n",
              "      <td>1978</td>\n",
              "      <td>BUF</td>\n",
              "      <td>Randy Smith</td>\n",
              "      <td>29</td>\n",
              "      <td>82</td>\n",
              "      <td>3314</td>\n",
              "      <td>19.1</td>\n",
              "      <td>0.521</td>\n",
              "      <td>NaN</td>\n",
              "      <td>0.326</td>\n",
              "      <td>...</td>\n",
              "      <td>7.4</td>\n",
              "      <td>1.0</td>\n",
              "      <td>2.0</td>\n",
              "      <td>29.14</td>\n",
              "      <td>6.0</td>\n",
              "      <td>75.0</td>\n",
              "      <td>180.0</td>\n",
              "      <td>1.0</td>\n",
              "      <td>29.0</td>\n",
              "      <td>1</td>\n",
              "    </tr>\n",
              "    <tr>\n",
              "      <th>2</th>\n",
              "      <td>1978</td>\n",
              "      <td>WSB</td>\n",
              "      <td>Elvin Hayes</td>\n",
              "      <td>32</td>\n",
              "      <td>81</td>\n",
              "      <td>3246</td>\n",
              "      <td>17.1</td>\n",
              "      <td>0.489</td>\n",
              "      <td>NaN</td>\n",
              "      <td>0.365</td>\n",
              "      <td>...</td>\n",
              "      <td>6.5</td>\n",
              "      <td>4.2</td>\n",
              "      <td>4.0</td>\n",
              "      <td>32.21</td>\n",
              "      <td>9.0</td>\n",
              "      <td>81.0</td>\n",
              "      <td>235.0</td>\n",
              "      <td>4.0</td>\n",
              "      <td>32.0</td>\n",
              "      <td>1</td>\n",
              "    </tr>\n",
              "  </tbody>\n",
              "</table>\n",
              "<p>3 rows × 108 columns</p>\n",
              "</div>"
            ]
          },
          "metadata": {}
        }
      ],
      "execution_count": 48,
      "metadata": {
        "collapsed": false,
        "outputHidden": false,
        "inputHidden": false
      }
    },
    {
      "cell_type": "code",
      "source": [
        "# Match draft data with next year's NBA season data\n",
        "\n",
        "dfs = []\n",
        "\n",
        "for y in range(2011,2016):\n",
        "    draft_yr = draft.loc[draft[\"draft_Draft_Yr\"] == y]\n",
        "    nba_yr = nba.loc[nba[\"nba_Year\"] == y + 1]\n",
        "    draft_nba_yr = pd.merge(draft_yr, nba_yr, how = \"left\",\n",
        "                            left_on = \"draft_Player\", right_on = \"nba_Player\")\n",
        "    dfs.append(pd.DataFrame(draft_nba_yr))"
      ],
      "outputs": [],
      "execution_count": 55,
      "metadata": {
        "collapsed": false,
        "outputHidden": false,
        "inputHidden": false
      }
    },
    {
      "cell_type": "code",
      "source": [
        "# Create draft/nba matched data for all years\n",
        "df = dfs[0]\n",
        "for i in range(1,5):\n",
        "    df = df.append(dfs[i])"
      ],
      "outputs": [],
      "execution_count": 75,
      "metadata": {
        "collapsed": false,
        "outputHidden": false,
        "inputHidden": false
      }
    },
    {
      "cell_type": "code",
      "source": [
        "# Fill Roster w 0 if draft pick did not play the season\n",
        "df[\"Roster\"] = df[\"Roster\"].fillna(0)"
      ],
      "outputs": [],
      "execution_count": 70,
      "metadata": {
        "collapsed": false,
        "outputHidden": false,
        "inputHidden": false
      }
    },
    {
      "cell_type": "code",
      "source": [
        "df.loc[df[\"Roster\"] == 1 & (df[\"draft_Team\"] != df[\"nba_Tm\"])][[\"draft_Team\",\"nba_Tm\"]]"
      ],
      "outputs": [],
      "execution_count": null,
      "metadata": {
        "collapsed": false,
        "outputHidden": false,
        "inputHidden": false
      }
    },
    {
      "cell_type": "code",
      "source": [
        "conditions = [\n",
        "    (df[\"Roster\"] == 1 & (df[\"draft_Team\"] != df[\"nba_Tm\"])),\n",
        "    (df[\"Roster\"] == 1 & (df[\"draft_Team\"] == df[\"nba_Tm\"]))\n",
        "]\n",
        "choices = [1, 0]\n",
        "\n",
        "df[\"Traded\"] = np.select(conditions, choices)\n",
        "\ndf[\"Traded\"].value_counts()"
      ],
      "outputs": [
        {
          "output_type": "execute_result",
          "execution_count": 79,
          "data": {
            "text/plain": [
              "0    238\n",
              "1     72\n",
              "Name: Traded, dtype: int64"
            ]
          },
          "metadata": {}
        }
      ],
      "execution_count": 79,
      "metadata": {
        "collapsed": false,
        "outputHidden": false,
        "inputHidden": false
      }
    },
    {
      "cell_type": "code",
      "source": [
        "# Save data\n",
        "\ndf.to_csv(\"clean/draft_nba.csv\", index = False)"
      ],
      "outputs": [],
      "execution_count": 49,
      "metadata": {
        "collapsed": false,
        "outputHidden": false,
        "inputHidden": false
      }
    }
  ],
  "metadata": {
    "kernel_info": {
      "name": "python3"
    },
    "kernelspec": {
      "name": "python3",
      "language": "python",
      "display_name": "Python 3"
    },
    "language_info": {
      "name": "python",
      "version": "3.6.1",
      "mimetype": "text/x-python",
      "codemirror_mode": {
        "name": "ipython",
        "version": 3
      },
      "pygments_lexer": "ipython3",
      "nbconvert_exporter": "python",
      "file_extension": ".py"
    },
    "nteract": {
      "version": "0.8.4"
    }
  },
  "nbformat": 4,
  "nbformat_minor": 4
}